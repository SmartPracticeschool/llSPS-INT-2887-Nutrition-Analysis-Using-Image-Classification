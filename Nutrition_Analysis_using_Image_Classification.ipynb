{
  "nbformat": 4,
  "nbformat_minor": 0,
  "metadata": {
    "colab": {
      "name": "Nutrition Analysis using Image Classification ",
      "provenance": [],
      "collapsed_sections": []
    },
    "kernelspec": {
      "name": "python3",
      "display_name": "Python 3"
    },
    "accelerator": "GPU"
  },
  "cells": [
    {
      "cell_type": "code",
      "metadata": {
        "id": "gHtIL9cEdphd",
        "colab_type": "code",
        "colab": {}
      },
      "source": [
        "!unzip drive/My\\ Drive/CompleteDataset.zip -d dataset"
      ],
      "execution_count": null,
      "outputs": []
    },
    {
      "cell_type": "code",
      "metadata": {
        "id": "LDd9XGO_VDFr",
        "colab_type": "code",
        "colab": {
          "base_uri": "https://localhost:8080/",
          "height": 35
        },
        "outputId": "aaa79653-8bac-4c24-b61a-78e4c7c333aa"
      },
      "source": [
        "import numpy as np\n",
        "import pandas as pd\n",
        "import matplotlib.pyplot as plt\n",
        "\n",
        "import tensorflow as tf\n",
        "import keras as kr\n",
        "from keras.preprocessing.image import ImageDataGenerator\n",
        "from tensorflow.keras.layers import MaxPooling2D,Dense,Conv2D,Flatten,Dropout\n",
        "import tensorboard\n",
        "\n",
        "import os,datetime\n"
      ],
      "execution_count": 1,
      "outputs": [
        {
          "output_type": "stream",
          "text": [
            "Using TensorFlow backend.\n"
          ],
          "name": "stderr"
        }
      ]
    },
    {
      "cell_type": "code",
      "metadata": {
        "id": "zqfRPBMTXObl",
        "colab_type": "code",
        "colab": {}
      },
      "source": [
        "train_dir = 'drive/My Drive/Fruits360/Dataset/Train_set'\n",
        "valid_dir = 'drive/My Drive/Fruits360/Dataset/Validation_set'"
      ],
      "execution_count": 10,
      "outputs": []
    },
    {
      "cell_type": "code",
      "metadata": {
        "id": "15snuILaDY29",
        "colab_type": "code",
        "colab": {
          "base_uri": "https://localhost:8080/",
          "height": 54
        },
        "outputId": "c8e59607-c68c-46fb-ddc5-611e74488f0b"
      },
      "source": [
        "train_datagen = ImageDataGenerator(\n",
        "        rescale=1./255,\n",
        "        shear_range=0.2,\n",
        "        zoom_range=0.2,\n",
        "        horizontal_flip=True,)\n",
        "test_datagen = ImageDataGenerator(rescale=1./255)\n",
        "train_generator = train_datagen.flow_from_directory(\n",
        "        train_dir,\n",
        "        target_size=(100, 100),\n",
        "        class_mode='categorical',\n",
        "        batch_size = 32)\n",
        "validation_generator = test_datagen.flow_from_directory(\n",
        "        valid_dir,\n",
        "        target_size=(100, 100),\n",
        "        class_mode='categorical',\n",
        "        batch_size = 32)\n"
      ],
      "execution_count": 11,
      "outputs": [
        {
          "output_type": "stream",
          "text": [
            "Found 10597 images belonging to 18 classes.\n",
            "Found 4987 images belonging to 18 classes.\n"
          ],
          "name": "stdout"
        }
      ]
    },
    {
      "cell_type": "code",
      "metadata": {
        "id": "bdyCvguVqG3O",
        "colab_type": "code",
        "colab": {
          "base_uri": "https://localhost:8080/",
          "height": 349
        },
        "outputId": "8e134042-778a-4d02-b6dc-102dcb23220a"
      },
      "source": [
        "train_generator.class_indices"
      ],
      "execution_count": 14,
      "outputs": [
        {
          "output_type": "execute_result",
          "data": {
            "text/plain": [
              "{'APPLES': 0,\n",
              " 'BANANA': 1,\n",
              " 'BLUEBERRY': 2,\n",
              " 'CHERRY': 3,\n",
              " 'DATES': 4,\n",
              " 'GRAPES': 5,\n",
              " 'GUAVA': 6,\n",
              " 'LEMON': 7,\n",
              " 'MANGO': 8,\n",
              " 'ONION': 9,\n",
              " 'ORANGE': 10,\n",
              " 'PAPAYA': 11,\n",
              " 'PINEAPPLE': 12,\n",
              " 'POMEGRANATE': 13,\n",
              " 'POTATO': 14,\n",
              " 'STRAWBERRY': 15,\n",
              " 'TOMATO': 16,\n",
              " 'WATERMELON': 17}"
            ]
          },
          "metadata": {
            "tags": []
          },
          "execution_count": 14
        }
      ]
    },
    {
      "cell_type": "markdown",
      "metadata": {
        "id": "YdigEfsX5cko",
        "colab_type": "text"
      },
      "source": [
        "## Creating Model"
      ]
    },
    {
      "cell_type": "code",
      "metadata": {
        "id": "VUNZuhuM7B_k",
        "colab_type": "code",
        "colab": {}
      },
      "source": [
        "\n",
        "model = tf.keras.Sequential([Conv2D(filters = 18,kernel_size=(3,3),activation='relu'),\n",
        "                            MaxPooling2D((2,2)),\n",
        "                            Dropout(0.5),\n",
        "                             \n",
        "                            Conv2D(filters =36,kernel_size=(3,3),activation='relu'),\n",
        "                            MaxPooling2D((2,2)),\n",
        "                            Dropout(0.5),\n",
        "                             \n",
        "                            Conv2D(filters = 72,kernel_size=(3,3),activation='relu'),\n",
        "                            Dropout(0.5),\n",
        "                             \n",
        "                            Conv2D(filters = 288,kernel_size=(3,3),activation='relu'),\n",
        "                            MaxPooling2D((2,2)),\n",
        "                            \n",
        "                            Flatten(),\n",
        "                             \n",
        "                            Dense(72,activation='relu'),\n",
        "                            Dense(18,activation='softmax')])\n",
        "\n",
        "model.compile(\n",
        "    loss = tf.keras.losses.CategoricalCrossentropy(),\n",
        "    optimizer = tf.keras.optimizers.Adam(),\n",
        "    metrics = ['accuracy']\n",
        ")\n",
        "model.build((None,100,100,3))"
      ],
      "execution_count": null,
      "outputs": []
    },
    {
      "cell_type": "code",
      "metadata": {
        "id": "hE6hqCnmCxpF",
        "colab_type": "code",
        "colab": {
          "base_uri": "https://localhost:8080/",
          "height": 645
        },
        "outputId": "22892c82-8209-4a6f-b663-83f459f0b318"
      },
      "source": [
        "model.summary()"
      ],
      "execution_count": null,
      "outputs": [
        {
          "output_type": "stream",
          "text": [
            "Model: \"sequential_2\"\n",
            "_________________________________________________________________\n",
            "Layer (type)                 Output Shape              Param #   \n",
            "=================================================================\n",
            "conv2d_8 (Conv2D)            multiple                  504       \n",
            "_________________________________________________________________\n",
            "max_pooling2d_5 (MaxPooling2 multiple                  0         \n",
            "_________________________________________________________________\n",
            "dropout_6 (Dropout)          multiple                  0         \n",
            "_________________________________________________________________\n",
            "conv2d_9 (Conv2D)            multiple                  5868      \n",
            "_________________________________________________________________\n",
            "max_pooling2d_6 (MaxPooling2 multiple                  0         \n",
            "_________________________________________________________________\n",
            "dropout_7 (Dropout)          multiple                  0         \n",
            "_________________________________________________________________\n",
            "conv2d_10 (Conv2D)           multiple                  23400     \n",
            "_________________________________________________________________\n",
            "dropout_8 (Dropout)          multiple                  0         \n",
            "_________________________________________________________________\n",
            "conv2d_11 (Conv2D)           multiple                  93456     \n",
            "_________________________________________________________________\n",
            "max_pooling2d_7 (MaxPooling2 multiple                  0         \n",
            "_________________________________________________________________\n",
            "flatten_2 (Flatten)          multiple                  0         \n",
            "_________________________________________________________________\n",
            "dense_4 (Dense)              multiple                  839880    \n",
            "_________________________________________________________________\n",
            "dense_5 (Dense)              multiple                  1314      \n",
            "=================================================================\n",
            "Total params: 964,422\n",
            "Trainable params: 964,422\n",
            "Non-trainable params: 0\n",
            "_________________________________________________________________\n"
          ],
          "name": "stdout"
        }
      ]
    },
    {
      "cell_type": "code",
      "metadata": {
        "id": "ZwIi3RRiDv_s",
        "colab_type": "code",
        "colab": {}
      },
      "source": [
        "NUM_EPOCHS = 100 #@param {type:'slider',min:3,max:100}"
      ],
      "execution_count": null,
      "outputs": []
    },
    {
      "cell_type": "code",
      "metadata": {
        "id": "w4vLKuapDgyj",
        "colab_type": "code",
        "colab": {}
      },
      "source": [
        "early_stopping = tf.keras.callbacks.EarlyStopping(monitor='val_accuracy',patience=3)\n",
        "logdir=\"drive/My Drive/Fruits360/logs/\" + datetime.datetime.now().strftime(\"%Y%m%d-%H%M%S\")\n",
        "tensorboard_callback = tf.keras.callbacks.TensorBoard(log_dir=logdir)\n"
      ],
      "execution_count": null,
      "outputs": []
    },
    {
      "cell_type": "code",
      "metadata": {
        "id": "RQW7YfXDDFFH",
        "colab_type": "code",
        "colab": {
          "base_uri": "https://localhost:8080/",
          "height": 368
        },
        "outputId": "56e42e40-32ee-4684-9d6d-678b5a54b6cb"
      },
      "source": [
        "%%time\n",
        "model.fit(\n",
        "        train_generator,\n",
        "        epochs = NUM_EPOCHS,\n",
        "        validation_data=validation_generator[0],\n",
        "        validation_freq=1,\n",
        "        verbose =1,\n",
        "        callbacks=[early_stopping,tensorboard_callback]\n",
        "    )"
      ],
      "execution_count": null,
      "outputs": [
        {
          "output_type": "stream",
          "text": [
            "Epoch 1/100\n",
            "332/332 [==============================] - 39s 117ms/step - loss: 1.6103 - accuracy: 0.5018 - val_loss: 2.2096 - val_accuracy: 0.4688\n",
            "Epoch 2/100\n",
            "332/332 [==============================] - 39s 117ms/step - loss: 0.2529 - accuracy: 0.9176 - val_loss: 2.0381 - val_accuracy: 0.6562\n",
            "Epoch 3/100\n",
            "332/332 [==============================] - 39s 116ms/step - loss: 0.0978 - accuracy: 0.9677 - val_loss: 2.7937 - val_accuracy: 0.7500\n",
            "Epoch 4/100\n",
            "332/332 [==============================] - 38s 115ms/step - loss: 0.0816 - accuracy: 0.9762 - val_loss: 3.0973 - val_accuracy: 0.7500\n",
            "Epoch 5/100\n",
            "332/332 [==============================] - 39s 117ms/step - loss: 0.0409 - accuracy: 0.9866 - val_loss: 3.1409 - val_accuracy: 0.8438\n",
            "Epoch 6/100\n",
            "332/332 [==============================] - 39s 117ms/step - loss: 0.0467 - accuracy: 0.9883 - val_loss: 2.0155 - val_accuracy: 0.8438\n",
            "Epoch 7/100\n",
            "332/332 [==============================] - 39s 117ms/step - loss: 0.0453 - accuracy: 0.9859 - val_loss: 2.5559 - val_accuracy: 0.7188\n",
            "Epoch 8/100\n",
            "332/332 [==============================] - 38s 116ms/step - loss: 0.0139 - accuracy: 0.9955 - val_loss: 3.2383 - val_accuracy: 0.7500\n",
            "CPU times: user 4min 8s, sys: 20.8 s, total: 4min 29s\n",
            "Wall time: 5min 11s\n"
          ],
          "name": "stdout"
        },
        {
          "output_type": "execute_result",
          "data": {
            "text/plain": [
              "<tensorflow.python.keras.callbacks.History at 0x7f28c013d160>"
            ]
          },
          "metadata": {
            "tags": []
          },
          "execution_count": 19
        }
      ]
    },
    {
      "cell_type": "code",
      "metadata": {
        "id": "V5SBRMyyDrkH",
        "colab_type": "code",
        "colab": {}
      },
      "source": [
        "def save_model(model,suffix=None):\n",
        "    modeldir = os.path.join(\"drive/My Drive/Fruits360/models\",datetime.datetime.now().strftime(\"%Y%m%d-%H%M%S\"))\n",
        "    model_path = modeldir + \"_\"+ suffix+\".h5\"\n",
        "    model.save(model_path)\n",
        "    return(model_path)\n",
        "save_model(model,\"18-cat-allimages-adam-0.84\")"
      ],
      "execution_count": null,
      "outputs": []
    },
    {
      "cell_type": "code",
      "metadata": {
        "id": "76ofLCWDlbBs",
        "colab_type": "code",
        "colab": {
          "base_uri": "https://localhost:8080/",
          "height": 54
        },
        "outputId": "6f5aea97-0306-4b26-e630-24cdf6ae17e1"
      },
      "source": [
        "model.evaluate(validation_generator)"
      ],
      "execution_count": null,
      "outputs": [
        {
          "output_type": "stream",
          "text": [
            "156/156 [==============================] - 1926s 12s/step - loss: 1.8522 - accuracy: 0.7945\n"
          ],
          "name": "stdout"
        },
        {
          "output_type": "execute_result",
          "data": {
            "text/plain": [
              "[1.8522005081176758, 0.7944656014442444]"
            ]
          },
          "metadata": {
            "tags": []
          },
          "execution_count": 15
        }
      ]
    },
    {
      "cell_type": "code",
      "metadata": {
        "id": "I439Y_6rRXRy",
        "colab_type": "code",
        "colab": {}
      },
      "source": [
        ""
      ],
      "execution_count": null,
      "outputs": []
    }
  ]
}